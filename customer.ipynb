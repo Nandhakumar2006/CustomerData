{
 "cells": [
  {
   "cell_type": "code",
   "execution_count": 1,
   "id": "3b499175",
   "metadata": {},
   "outputs": [],
   "source": [
    "import pandas as pd\n",
    "import numpy as np\n",
    "import matplotlib.pyplot as plt\n"
   ]
  },
  {
   "cell_type": "markdown",
   "id": "6817dc31",
   "metadata": {},
   "source": [
    "#### Part A"
   ]
  },
  {
   "cell_type": "code",
   "execution_count": 7,
   "id": "10ef8222",
   "metadata": {},
   "outputs": [
    {
     "name": "stdout",
     "output_type": "stream",
     "text": [
      "Index(['customer_id', 'full_name', 'age', 'annual_income', 'spending_score',\n",
      "       'num_transactions', 'last_purchase_days', 'city'],\n",
      "      dtype='object')\n"
     ]
    }
   ],
   "source": [
    "df=pd.read_csv('customer_data.csv')\n",
    "print(df.columns)"
   ]
  },
  {
   "cell_type": "code",
   "execution_count": 8,
   "id": "86a6d5d8",
   "metadata": {},
   "outputs": [
    {
     "data": {
      "text/plain": [
       "customer_id           0\n",
       "full_name             0\n",
       "age                   0\n",
       "annual_income         0\n",
       "spending_score        0\n",
       "num_transactions      0\n",
       "last_purchase_days    0\n",
       "city                  0\n",
       "dtype: int64"
      ]
     },
     "execution_count": 8,
     "metadata": {},
     "output_type": "execute_result"
    }
   ],
   "source": [
    "nill=df.isnull().sum()\n",
    "nill"
   ]
  },
  {
   "cell_type": "code",
   "execution_count": 9,
   "id": "bffc2487",
   "metadata": {},
   "outputs": [
    {
     "name": "stdout",
     "output_type": "stream",
     "text": [
      "0\n"
     ]
    }
   ],
   "source": [
    "duplicates=df.duplicated().sum()\n",
    "print(duplicates)"
   ]
  },
  {
   "cell_type": "code",
   "execution_count": 10,
   "id": "4f74bdb6",
   "metadata": {},
   "outputs": [
    {
     "data": {
      "text/plain": [
       "0        Emily\n",
       "1     Patricia\n",
       "2      Michael\n",
       "3    Elizabeth\n",
       "4       Sophia\n",
       "Name: first_name, dtype: object"
      ]
     },
     "execution_count": 10,
     "metadata": {},
     "output_type": "execute_result"
    }
   ],
   "source": [
    "df['first_name']=df['full_name'].str.split().str[0]\n",
    "df['first_name'].head()"
   ]
  },
  {
   "cell_type": "code",
   "execution_count": 11,
   "id": "2090aa32",
   "metadata": {},
   "outputs": [
    {
     "data": {
      "text/plain": [
       "0      MIAMI\n",
       "1    PHOENIX\n",
       "2    CHICAGO\n",
       "3    CHICAGO\n",
       "4    CHICAGO\n",
       "Name: city, dtype: object"
      ]
     },
     "execution_count": 11,
     "metadata": {},
     "output_type": "execute_result"
    }
   ],
   "source": [
    "df['city']=df['city'].str.upper()\n",
    "df['city'].head()"
   ]
  },
  {
   "cell_type": "markdown",
   "id": "9adc984d",
   "metadata": {},
   "source": [
    "Part B"
   ]
  },
  {
   "cell_type": "code",
   "execution_count": 12,
   "id": "d64c9692",
   "metadata": {},
   "outputs": [
    {
     "name": "stdout",
     "output_type": "stream",
     "text": [
      "statistics\n",
      "\n",
      "mean       42.660000\n",
      "median     44.500000\n",
      "std        11.863891\n",
      "var       140.751919\n",
      "Name: age, dtype: float64\n",
      "\n",
      "mode\n",
      "0    52\n",
      "1    54\n",
      "Name: age, dtype: int64\n"
     ]
    },
    {
     "data": {
      "text/plain": [
       "age\n",
       "54    8\n",
       "52    8\n",
       "60    4\n",
       "49    4\n",
       "39    4\n",
       "Name: count, dtype: int64"
      ]
     },
     "execution_count": 12,
     "metadata": {},
     "output_type": "execute_result"
    }
   ],
   "source": [
    "stat=df['age'].agg(['mean','median','std','var'])\n",
    "stat1=df['age'].mode()\n",
    "print(\"statistics\\n\")\n",
    "print(stat)\n",
    "print(\"\\nmode\")\n",
    "print(stat1)\n",
    "count=df['age'].value_counts()\n",
    "count.head()"
   ]
  },
  {
   "cell_type": "code",
   "execution_count": 13,
   "id": "f55b05bd",
   "metadata": {},
   "outputs": [
    {
     "name": "stdout",
     "output_type": "stream",
     "text": [
      "statistics\n",
      "\n",
      "mean      7.607689e+04\n",
      "median    8.031800e+04\n",
      "std       2.784771e+04\n",
      "var       7.754951e+08\n",
      "Name: annual_income, dtype: float64\n",
      "\n",
      "mode\n",
      "0      31150\n",
      "1      32368\n",
      "2      33051\n",
      "3      33343\n",
      "4      34014\n",
      "       ...  \n",
      "95    117545\n",
      "96    117922\n",
      "97    118891\n",
      "98    119480\n",
      "99    119912\n",
      "Name: annual_income, Length: 100, dtype: int64\n"
     ]
    },
    {
     "data": {
      "text/plain": [
       "annual_income\n",
       "95726     1\n",
       "40492     1\n",
       "36102     1\n",
       "80336     1\n",
       "115314    1\n",
       "Name: count, dtype: int64"
      ]
     },
     "execution_count": 13,
     "metadata": {},
     "output_type": "execute_result"
    }
   ],
   "source": [
    "stats=df['annual_income'].agg(['mean','median','std','var'])\n",
    "stats1=df['annual_income'].mode()\n",
    "print(\"statistics\\n\")\n",
    "print(stats)\n",
    "print(\"\\nmode\")\n",
    "print(stats1)\n",
    "countss=df['annual_income'].value_counts()\n",
    "countss.head()"
   ]
  },
  {
   "cell_type": "code",
   "execution_count": 14,
   "id": "111c5f80",
   "metadata": {},
   "outputs": [
    {
     "name": "stdout",
     "output_type": "stream",
     "text": [
      "statistics\n",
      "\n",
      "mean       54.780000\n",
      "median     52.000000\n",
      "std        26.453916\n",
      "var       699.809697\n",
      "Name: spending_score, dtype: float64\n",
      "\n",
      "mode\n",
      "0    78\n",
      "Name: spending_score, dtype: int64\n"
     ]
    },
    {
     "data": {
      "text/plain": [
       "spending_score\n",
       "78    5\n",
       "99    4\n",
       "42    4\n",
       "33    4\n",
       "21    4\n",
       "Name: count, dtype: int64"
      ]
     },
     "execution_count": 14,
     "metadata": {},
     "output_type": "execute_result"
    }
   ],
   "source": [
    "stat=df['spending_score'].agg(['mean','median','std','var'])\n",
    "stat1=df['spending_score'].mode()\n",
    "print(\"statistics\\n\")\n",
    "print(stat)\n",
    "print(\"\\nmode\")\n",
    "print(stat1)\n",
    "count=df['spending_score'].value_counts()\n",
    "count.head()"
   ]
  },
  {
   "cell_type": "code",
   "execution_count": 15,
   "id": "1a1c4188",
   "metadata": {},
   "outputs": [
    {
     "data": {
      "image/png": "[encoded data removed]",
      "text/plain": [
       "<Figure size 1200x500 with 2 Axes>"
      ]
     },
     "metadata": {},
     "output_type": "display_data"
    }
   ],
   "source": [
    "import matplotlib.pyplot as plt\n",
    "\n",
    "plt.figure(figsize=(12, 5))\n",
    "\n",
    "plt.subplot(1, 2, 1)\n",
    "plt.hist(df['annual_income'], bins=20, color='skyblue', edgecolor='black')\n",
    "plt.title('Distribution of Annual Income')\n",
    "plt.xlabel('Annual Income')\n",
    "plt.ylabel('Count')\n",
    "\n",
    "plt.subplot(1, 2, 2)\n",
    "plt.hist(df['spending_score'], bins=20, color='salmon', edgecolor='black')\n",
    "plt.title('Distribution of Spending Score')\n",
    "plt.xlabel('Spending Score')\n",
    "plt.ylabel('Count')\n",
    "\n",
    "plt.tight_layout()\n",
    "plt.show()\n"
   ]
  },
  {
   "cell_type": "code",
   "execution_count": 16,
   "id": "dc963c54",
   "metadata": {},
   "outputs": [
    {
     "data": {
      "text/html": [
       "<div>\n",
       "<style scoped>\n",
       "    .dataframe tbody tr th:only-of-type {\n",
       "        vertical-align: middle;\n",
       "    }\n",
       "\n",
       "    .dataframe tbody tr th {\n",
       "        vertical-align: top;\n",
       "    }\n",
       "\n",
       "    .dataframe thead th {\n",
       "        text-align: right;\n",
       "    }\n",
       "</style>\n",
       "<table border=\"1\" class=\"dataframe\">\n",
       "  <thead>\n",
       "    <tr style=\"text-align: right;\">\n",
       "      <th></th>\n",
       "      <th>city</th>\n",
       "      <th>spending_score</th>\n",
       "    </tr>\n",
       "  </thead>\n",
       "  <tbody>\n",
       "    <tr>\n",
       "      <th>2</th>\n",
       "      <td>HOUSTON</td>\n",
       "      <td>63.571429</td>\n",
       "    </tr>\n",
       "  </tbody>\n",
       "</table>\n",
       "</div>"
      ],
      "text/plain": [
       "      city  spending_score\n",
       "2  HOUSTON       63.571429"
      ]
     },
     "execution_count": 16,
     "metadata": {},
     "output_type": "execute_result"
    }
   ],
   "source": [
    "high_avg=df.groupby('city')['spending_score'].mean().reset_index()\n",
    "high_avg=high_avg.sort_values(by='spending_score',ascending=False)\n",
    "high_avg.head(1)"
   ]
  },
  {
   "cell_type": "markdown",
   "id": "edfbf47f",
   "metadata": {},
   "source": [
    "#### Part C"
   ]
  },
  {
   "cell_type": "code",
   "execution_count": 17,
   "id": "176fd1ec",
   "metadata": {},
   "outputs": [
    {
     "name": "stdout",
     "output_type": "stream",
     "text": [
      "0.35\n",
      "35.0 %\n"
     ]
    }
   ],
   "source": [
    "num_70=(df['spending_score']>70).sum()\n",
    "total_probability=len(df)\n",
    "probability=num_70/total_probability\n",
    "print(probability)\n",
    "print(probability*100,\"%\")"
   ]
  },
  {
   "cell_type": "code",
   "execution_count": 18,
   "id": "6ecb3dfa",
   "metadata": {},
   "outputs": [
    {
     "name": "stdout",
     "output_type": "stream",
     "text": [
      "0.9\n"
     ]
    }
   ],
   "source": [
    "high_annual = df[df['city'] == 'NEW YORK']\n",
    "total=len(high_annual)\n",
    "high_income=(high_annual['annual_income']>60000).sum()\n",
    "conditional=high_income/total\n",
    "print(conditional)\n"
   ]
  },
  {
   "cell_type": "markdown",
   "id": "1d4b58dc",
   "metadata": {},
   "source": [
    "#### Part D"
   ]
  },
  {
   "cell_type": "code",
   "execution_count": 19,
   "id": "33bd68be",
   "metadata": {},
   "outputs": [
    {
     "name": "stdout",
     "output_type": "stream",
     "text": [
      "320139613\n"
     ]
    }
   ],
   "source": [
    "import numpy as np\n",
    "age_vector=df['age'].to_numpy()\n",
    "annual_vector=df['annual_income'].to_numpy()\n",
    "DotProduct=np.dot(age_vector,annual_vector)\n",
    "print(DotProduct)"
   ]
  },
  {
   "cell_type": "code",
   "execution_count": 20,
   "id": "be45ad8e",
   "metadata": {},
   "outputs": [
    {
     "name": "stdout",
     "output_type": "stream",
     "text": [
      "809656.3090960262\n"
     ]
    }
   ],
   "source": [
    "annual_norm=df['annual_income'].to_numpy()\n",
    "norm=np.linalg.norm(annual_norm)\n",
    "print(norm)"
   ]
  },
  {
   "cell_type": "code",
   "execution_count": 21,
   "id": "8eda7bde",
   "metadata": {},
   "outputs": [
    {
     "name": "stdout",
     "output_type": "stream",
     "text": [
      "[ 95726  40492  36102  80336 115314  56641  64584  62745  53093  96105\n",
      "  81885  66631 102991  34014  41093  48070  65777  86958 112074  40729\n",
      "  75017  96320  57751 108069  84748  35801  49190  79689  80993  59592\n",
      "  40647  38716 118891 117545 119912 100316  32368 107575  36655 100031\n",
      " 106429 117922  85766  43403  62097 108657  40966  82921  79726  80300\n",
      "  52677  85609  86661  61024 100313  83006  45338  98027 110135  49508\n",
      "  33051  78747 117142 117235  84021  96412  88335  86179  62093  99678\n",
      " 110738  69734 102615 103523  47019 113613 116672 103847 112750 109634\n",
      "  58251  55945  62217  38308  35949  81990  31150 119480 104740  96617\n",
      "  46896  76175  37805  35237  50056  75543  86556  33343  43500  83222]\n"
     ]
    }
   ],
   "source": [
    "annual_vector = df['annual_income'].to_numpy()\n",
    "annual_unit = annual_vector / np.linalg.norm(annual_vector)\n",
    "print(annual_vector)"
   ]
  },
  {
   "cell_type": "markdown",
   "id": "ad7080fe",
   "metadata": {},
   "source": [
    "#### Part E"
   ]
  },
  {
   "cell_type": "code",
   "execution_count": 22,
   "id": "6e5c5b0e",
   "metadata": {},
   "outputs": [
    {
     "name": "stdout",
     "output_type": "stream",
     "text": [
      "Cost function J(w): 12.927992445323527\n",
      "Gradient (first 10 values):\n",
      "[-0.07405152 -0.06896061  0.0618043   0.06545909  0.03973152 -0.06023991\n",
      "  0.11467655 -0.03645152 -0.0123576   0.01342307]\n"
     ]
    }
   ],
   "source": [
    "y = df[\"spending_score\"].values\n",
    "\n",
    "y_pred = y + np.random.normal(0, 5, size=len(y))\n",
    "\n",
    "m = len(y)\n",
    "J = (1 / (2 * m)) * np.sum((y - y_pred) ** 2)\n",
    "print(\"Cost function J(w):\", J)\n",
    "\n",
    "\n",
    "gradient = (1 / m) * (y_pred - y)\n",
    "print(\"Gradient (first 10 values):\")\n",
    "print(gradient[:10])\n",
    "\n"
   ]
  },
  {
   "cell_type": "markdown",
   "id": "3614f83c",
   "metadata": {},
   "source": [
    "#### Part F"
   ]
  },
  {
   "cell_type": "code",
   "execution_count": 23,
   "id": "a10347fc",
   "metadata": {},
   "outputs": [
    {
     "data": {
      "text/plain": [
       "0    3.476190\n",
       "1    3.000000\n",
       "2    2.689655\n",
       "3    1.192308\n",
       "4    4.470588\n",
       "Name: avg_spend_per_transaction, dtype: float64"
      ]
     },
     "execution_count": 23,
     "metadata": {},
     "output_type": "execute_result"
    }
   ],
   "source": [
    "df['avg_spend_per_transaction']=df['spending_score']/df['num_transactions']\n",
    "df['avg_spend_per_transaction'].head()"
   ]
  },
  {
   "cell_type": "code",
   "execution_count": 24,
   "id": "20c90a91",
   "metadata": {},
   "outputs": [
    {
     "data": {
      "text/html": [
       "<div>\n",
       "<style scoped>\n",
       "    .dataframe tbody tr th:only-of-type {\n",
       "        vertical-align: middle;\n",
       "    }\n",
       "\n",
       "    .dataframe tbody tr th {\n",
       "        vertical-align: top;\n",
       "    }\n",
       "\n",
       "    .dataframe thead th {\n",
       "        text-align: right;\n",
       "    }\n",
       "</style>\n",
       "<table border=\"1\" class=\"dataframe\">\n",
       "  <thead>\n",
       "    <tr style=\"text-align: right;\">\n",
       "      <th></th>\n",
       "      <th>customer_id</th>\n",
       "      <th>full_name</th>\n",
       "      <th>age</th>\n",
       "      <th>annual_income</th>\n",
       "      <th>spending_score</th>\n",
       "      <th>num_transactions</th>\n",
       "      <th>last_purchase_days</th>\n",
       "      <th>first_name</th>\n",
       "      <th>avg_spend_per_transaction</th>\n",
       "      <th>city_BOSTON</th>\n",
       "      <th>city_CHICAGO</th>\n",
       "      <th>city_HOUSTON</th>\n",
       "      <th>city_LOS ANGELES</th>\n",
       "      <th>city_MIAMI</th>\n",
       "      <th>city_NEW YORK</th>\n",
       "      <th>city_PHOENIX</th>\n",
       "      <th>city_SEATTLE</th>\n",
       "    </tr>\n",
       "  </thead>\n",
       "  <tbody>\n",
       "    <tr>\n",
       "      <th>0</th>\n",
       "      <td>1001</td>\n",
       "      <td>Emily Martin</td>\n",
       "      <td>45</td>\n",
       "      <td>95726</td>\n",
       "      <td>73</td>\n",
       "      <td>21</td>\n",
       "      <td>58</td>\n",
       "      <td>Emily</td>\n",
       "      <td>3.476190</td>\n",
       "      <td>False</td>\n",
       "      <td>False</td>\n",
       "      <td>False</td>\n",
       "      <td>False</td>\n",
       "      <td>True</td>\n",
       "      <td>False</td>\n",
       "      <td>False</td>\n",
       "      <td>False</td>\n",
       "    </tr>\n",
       "    <tr>\n",
       "      <th>1</th>\n",
       "      <td>1002</td>\n",
       "      <td>Patricia Hernandez</td>\n",
       "      <td>22</td>\n",
       "      <td>40492</td>\n",
       "      <td>72</td>\n",
       "      <td>24</td>\n",
       "      <td>28</td>\n",
       "      <td>Patricia</td>\n",
       "      <td>3.000000</td>\n",
       "      <td>False</td>\n",
       "      <td>False</td>\n",
       "      <td>False</td>\n",
       "      <td>False</td>\n",
       "      <td>False</td>\n",
       "      <td>False</td>\n",
       "      <td>True</td>\n",
       "      <td>False</td>\n",
       "    </tr>\n",
       "    <tr>\n",
       "      <th>2</th>\n",
       "      <td>1003</td>\n",
       "      <td>Michael Miller</td>\n",
       "      <td>38</td>\n",
       "      <td>36102</td>\n",
       "      <td>78</td>\n",
       "      <td>29</td>\n",
       "      <td>36</td>\n",
       "      <td>Michael</td>\n",
       "      <td>2.689655</td>\n",
       "      <td>False</td>\n",
       "      <td>True</td>\n",
       "      <td>False</td>\n",
       "      <td>False</td>\n",
       "      <td>False</td>\n",
       "      <td>False</td>\n",
       "      <td>False</td>\n",
       "      <td>False</td>\n",
       "    </tr>\n",
       "    <tr>\n",
       "      <th>3</th>\n",
       "      <td>1004</td>\n",
       "      <td>Elizabeth Hernandez</td>\n",
       "      <td>39</td>\n",
       "      <td>80336</td>\n",
       "      <td>31</td>\n",
       "      <td>26</td>\n",
       "      <td>26</td>\n",
       "      <td>Elizabeth</td>\n",
       "      <td>1.192308</td>\n",
       "      <td>False</td>\n",
       "      <td>True</td>\n",
       "      <td>False</td>\n",
       "      <td>False</td>\n",
       "      <td>False</td>\n",
       "      <td>False</td>\n",
       "      <td>False</td>\n",
       "      <td>False</td>\n",
       "    </tr>\n",
       "    <tr>\n",
       "      <th>4</th>\n",
       "      <td>1005</td>\n",
       "      <td>Sophia Williams</td>\n",
       "      <td>51</td>\n",
       "      <td>115314</td>\n",
       "      <td>76</td>\n",
       "      <td>17</td>\n",
       "      <td>8</td>\n",
       "      <td>Sophia</td>\n",
       "      <td>4.470588</td>\n",
       "      <td>False</td>\n",
       "      <td>True</td>\n",
       "      <td>False</td>\n",
       "      <td>False</td>\n",
       "      <td>False</td>\n",
       "      <td>False</td>\n",
       "      <td>False</td>\n",
       "      <td>False</td>\n",
       "    </tr>\n",
       "  </tbody>\n",
       "</table>\n",
       "</div>"
      ],
      "text/plain": [
       "   customer_id            full_name  age  annual_income  spending_score  \\\n",
       "0         1001         Emily Martin   45          95726              73   \n",
       "1         1002   Patricia Hernandez   22          40492              72   \n",
       "2         1003       Michael Miller   38          36102              78   \n",
       "3         1004  Elizabeth Hernandez   39          80336              31   \n",
       "4         1005      Sophia Williams   51         115314              76   \n",
       "\n",
       "   num_transactions  last_purchase_days first_name  avg_spend_per_transaction  \\\n",
       "0                21                  58      Emily                   3.476190   \n",
       "1                24                  28   Patricia                   3.000000   \n",
       "2                29                  36    Michael                   2.689655   \n",
       "3                26                  26  Elizabeth                   1.192308   \n",
       "4                17                   8     Sophia                   4.470588   \n",
       "\n",
       "   city_BOSTON  city_CHICAGO  city_HOUSTON  city_LOS ANGELES  city_MIAMI  \\\n",
       "0        False         False         False             False        True   \n",
       "1        False         False         False             False       False   \n",
       "2        False          True         False             False       False   \n",
       "3        False          True         False             False       False   \n",
       "4        False          True         False             False       False   \n",
       "\n",
       "   city_NEW YORK  city_PHOENIX  city_SEATTLE  \n",
       "0          False         False         False  \n",
       "1          False          True         False  \n",
       "2          False         False         False  \n",
       "3          False         False         False  \n",
       "4          False         False         False  "
      ]
     },
     "execution_count": 24,
     "metadata": {},
     "output_type": "execute_result"
    }
   ],
   "source": [
    "df_encoded = pd.get_dummies(df, columns=['city'], prefix='city')\n",
    "df_encoded.head()"
   ]
  },
  {
   "cell_type": "code",
   "execution_count": 25,
   "id": "a024f412",
   "metadata": {},
   "outputs": [
    {
     "data": {
      "text/html": [
       "<div>\n",
       "<style scoped>\n",
       "    .dataframe tbody tr th:only-of-type {\n",
       "        vertical-align: middle;\n",
       "    }\n",
       "\n",
       "    .dataframe tbody tr th {\n",
       "        vertical-align: top;\n",
       "    }\n",
       "\n",
       "    .dataframe thead th {\n",
       "        text-align: right;\n",
       "    }\n",
       "</style>\n",
       "<table border=\"1\" class=\"dataframe\">\n",
       "  <thead>\n",
       "    <tr style=\"text-align: right;\">\n",
       "      <th></th>\n",
       "      <th>customer_id</th>\n",
       "      <th>full_name</th>\n",
       "      <th>age</th>\n",
       "      <th>annual_income</th>\n",
       "      <th>spending_score</th>\n",
       "      <th>num_transactions</th>\n",
       "      <th>last_purchase_days</th>\n",
       "      <th>city</th>\n",
       "      <th>first_name</th>\n",
       "      <th>avg_spend_per_transaction</th>\n",
       "    </tr>\n",
       "  </thead>\n",
       "  <tbody>\n",
       "    <tr>\n",
       "      <th>0</th>\n",
       "      <td>1001</td>\n",
       "      <td>Emily Martin</td>\n",
       "      <td>0.197237</td>\n",
       "      <td>0.705592</td>\n",
       "      <td>73</td>\n",
       "      <td>21</td>\n",
       "      <td>58</td>\n",
       "      <td>MIAMI</td>\n",
       "      <td>Emily</td>\n",
       "      <td>3.476190</td>\n",
       "    </tr>\n",
       "    <tr>\n",
       "      <th>1</th>\n",
       "      <td>1002</td>\n",
       "      <td>Patricia Hernandez</td>\n",
       "      <td>-1.741419</td>\n",
       "      <td>-1.277839</td>\n",
       "      <td>72</td>\n",
       "      <td>24</td>\n",
       "      <td>28</td>\n",
       "      <td>PHOENIX</td>\n",
       "      <td>Patricia</td>\n",
       "      <td>3.000000</td>\n",
       "    </tr>\n",
       "    <tr>\n",
       "      <th>2</th>\n",
       "      <td>1003</td>\n",
       "      <td>Michael Miller</td>\n",
       "      <td>-0.392788</td>\n",
       "      <td>-1.435482</td>\n",
       "      <td>78</td>\n",
       "      <td>29</td>\n",
       "      <td>36</td>\n",
       "      <td>CHICAGO</td>\n",
       "      <td>Michael</td>\n",
       "      <td>2.689655</td>\n",
       "    </tr>\n",
       "    <tr>\n",
       "      <th>3</th>\n",
       "      <td>1004</td>\n",
       "      <td>Elizabeth Hernandez</td>\n",
       "      <td>-0.308499</td>\n",
       "      <td>0.152943</td>\n",
       "      <td>31</td>\n",
       "      <td>26</td>\n",
       "      <td>26</td>\n",
       "      <td>CHICAGO</td>\n",
       "      <td>Elizabeth</td>\n",
       "      <td>1.192308</td>\n",
       "    </tr>\n",
       "    <tr>\n",
       "      <th>4</th>\n",
       "      <td>1005</td>\n",
       "      <td>Sophia Williams</td>\n",
       "      <td>0.702973</td>\n",
       "      <td>1.408989</td>\n",
       "      <td>76</td>\n",
       "      <td>17</td>\n",
       "      <td>8</td>\n",
       "      <td>CHICAGO</td>\n",
       "      <td>Sophia</td>\n",
       "      <td>4.470588</td>\n",
       "    </tr>\n",
       "  </tbody>\n",
       "</table>\n",
       "</div>"
      ],
      "text/plain": [
       "   customer_id            full_name       age  annual_income  spending_score  \\\n",
       "0         1001         Emily Martin  0.197237       0.705592              73   \n",
       "1         1002   Patricia Hernandez -1.741419      -1.277839              72   \n",
       "2         1003       Michael Miller -0.392788      -1.435482              78   \n",
       "3         1004  Elizabeth Hernandez -0.308499       0.152943              31   \n",
       "4         1005      Sophia Williams  0.702973       1.408989              76   \n",
       "\n",
       "   num_transactions  last_purchase_days     city first_name  \\\n",
       "0                21                  58    MIAMI      Emily   \n",
       "1                24                  28  PHOENIX   Patricia   \n",
       "2                29                  36  CHICAGO    Michael   \n",
       "3                26                  26  CHICAGO  Elizabeth   \n",
       "4                17                   8  CHICAGO     Sophia   \n",
       "\n",
       "   avg_spend_per_transaction  \n",
       "0                   3.476190  \n",
       "1                   3.000000  \n",
       "2                   2.689655  \n",
       "3                   1.192308  \n",
       "4                   4.470588  "
      ]
     },
     "execution_count": 25,
     "metadata": {},
     "output_type": "execute_result"
    }
   ],
   "source": [
    "mean_age = df['age'].mean()\n",
    "std_age = df['age'].std()\n",
    "df['age'] = (df['age'] - mean_age) / std_age\n",
    "\n",
    "mean_income = df['annual_income'].mean()\n",
    "std_income = df['annual_income'].std()\n",
    "df['annual_income'] = (df['annual_income'] - mean_income) / std_income\n",
    "\n",
    "df.head()"
   ]
  }
 ],
 "metadata": {
  "kernelspec": {
   "display_name": "base",
   "language": "python",
   "name": "python3"
  },
  "language_info": {
   "codemirror_mode": {
    "name": "ipython",
    "version": 3
   },
   "file_extension": ".py",
   "mimetype": "text/x-python",
   "name": "python",
   "nbconvert_exporter": "python",
   "pygments_lexer": "ipython3",
   "version": "3.13.5"
  }
 },
 "nbformat": 4,
 "nbformat_minor": 5
}
